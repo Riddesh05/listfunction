{
 "cells": [
  {
   "cell_type": "markdown",
   "id": "adf0c325",
   "metadata": {},
   "source": [
    "# Q1"
   ]
  },
  {
   "cell_type": "markdown",
   "id": "c83a922b",
   "metadata": {},
   "source": [
    "In python we use two function to add element in list are append() and insert()\n",
    "for example"
   ]
  },
  {
   "cell_type": "code",
   "execution_count": 2,
   "id": "f8e33134",
   "metadata": {},
   "outputs": [
    {
     "name": "stdout",
     "output_type": "stream",
     "text": [
      "[1, 2, 3, 4, 5, 5, 6, 7]\n"
     ]
    }
   ],
   "source": [
    "a=[1,2,3,4,5,5,6]\n",
    "a.append(7)\n",
    "print(a)"
   ]
  },
  {
   "cell_type": "code",
   "execution_count": 4,
   "id": "0e664093",
   "metadata": {},
   "outputs": [
    {
     "name": "stdout",
     "output_type": "stream",
     "text": [
      "[1, 2, 10, 10, 3, 4, 5, 5, 6, 7]\n"
     ]
    }
   ],
   "source": [
    "a.insert(2,10)\n",
    "print(a)"
   ]
  },
  {
   "cell_type": "markdown",
   "id": "34995f5f",
   "metadata": {},
   "source": [
    "# Q2"
   ]
  },
  {
   "cell_type": "markdown",
   "id": "24d7bc7f",
   "metadata": {},
   "source": [
    "In Python, both the remove() and pop() functions are used to remove elements\n",
    "from a list\n",
    "example of remove() and pop() are:"
   ]
  },
  {
   "cell_type": "code",
   "execution_count": 5,
   "id": "788292d7",
   "metadata": {},
   "outputs": [
    {
     "name": "stdout",
     "output_type": "stream",
     "text": [
      "[1, 2, 3, 4, 4]\n"
     ]
    }
   ],
   "source": [
    "m=[1,2,3,4,4,4]\n",
    "m.remove(4)\n",
    "print(m)"
   ]
  },
  {
   "cell_type": "code",
   "execution_count": 6,
   "id": "d460b555",
   "metadata": {},
   "outputs": [
    {
     "name": "stdout",
     "output_type": "stream",
     "text": [
      "[1, 3, 4, 4]\n"
     ]
    }
   ],
   "source": [
    "m.pop(1)\n",
    "print(m)"
   ]
  },
  {
   "cell_type": "markdown",
   "id": "a1cad5cf",
   "metadata": {},
   "source": [
    "# Q3"
   ]
  },
  {
   "cell_type": "code",
   "execution_count": 9,
   "id": "5d20edaf",
   "metadata": {},
   "outputs": [
    {
     "name": "stdout",
     "output_type": "stream",
     "text": [
      "element in descending oreder= [56, 34, 23, 10, 9, 7, 5, 4, 2, 1]\n"
     ]
    }
   ],
   "source": [
    "a=[5,7,1,9,4,2,10,23,34,56]\n",
    "a.sort(reverse=True)\n",
    "print(\"element in descending oreder=\",a)"
   ]
  },
  {
   "cell_type": "markdown",
   "id": "b98180fa",
   "metadata": {},
   "source": [
    "\n",
    "# Q4"
   ]
  },
  {
   "cell_type": "code",
   "execution_count": 10,
   "id": "32d24b66",
   "metadata": {},
   "outputs": [
    {
     "name": "stdout",
     "output_type": "stream",
     "text": [
      "The element 2 occurs 3 times in the list.\n"
     ]
    }
   ],
   "source": [
    "\n",
    "my_list = [1, 2, 3, 2, 4, 2, 5]\n",
    "element_to_count = 2\n",
    "occurrences = my_list.count(element_to_count)\n",
    "print(f\"The element {element_to_count} occurs {occurrences} times in the list.\")\n"
   ]
  },
  {
   "cell_type": "markdown",
   "id": "c9654e2c",
   "metadata": {},
   "source": [
    "# Q5"
   ]
  },
  {
   "cell_type": "code",
   "execution_count": 13,
   "id": "8fbb46a5",
   "metadata": {},
   "outputs": [
    {
     "name": "stdout",
     "output_type": "stream",
     "text": [
      "reverse number are : [66, 55, 34, 456, 5211, 4, 3, 2, 1]\n"
     ]
    }
   ],
   "source": [
    "a=[1,2,3,4,5211,456,34,55,66]\n",
    "a.reverse()\n",
    "print(\"reverse number are :\",a)\n"
   ]
  },
  {
   "cell_type": "code",
   "execution_count": null,
   "id": "4b0315e9",
   "metadata": {},
   "outputs": [],
   "source": []
  }
 ],
 "metadata": {
  "kernelspec": {
   "display_name": "Python 3 (ipykernel)",
   "language": "python",
   "name": "python3"
  },
  "language_info": {
   "codemirror_mode": {
    "name": "ipython",
    "version": 3
   },
   "file_extension": ".py",
   "mimetype": "text/x-python",
   "name": "python",
   "nbconvert_exporter": "python",
   "pygments_lexer": "ipython3",
   "version": "3.10.9"
  }
 },
 "nbformat": 4,
 "nbformat_minor": 5
}
